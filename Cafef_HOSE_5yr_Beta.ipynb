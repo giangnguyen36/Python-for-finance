{
 "cells": [
  {
   "cell_type": "code",
   "execution_count": 1,
   "metadata": {},
   "outputs": [],
   "source": [
    "import pandas as pd\n",
    "import numpy as np\n",
    "from datetime import datetime, timedelta\n",
    "import wget\n",
    "import zipfile"
   ]
  },
  {
   "cell_type": "code",
   "execution_count": 2,
   "metadata": {},
   "outputs": [],
   "source": [
    "#download latest data\n",
    "day = '10'\n",
    "month = '09'\n",
    "year = '2020'\n",
    "file = wget.download('http://images1.cafef.vn/data/{}{}{}/CafeF.SolieuGD.Upto{}{}{}.zip'\n",
    "                     .format(year, month, day, day, month, year), out = './Cafef_data')\n",
    "file_index = wget.download('http://images1.cafef.vn/data/{}{}{}/CafeF.Index.Upto{}{}{}.zip'\n",
    "                     .format(year, month, day, day, month, year), out = './Cafef_data')"
   ]
  },
  {
   "cell_type": "code",
   "execution_count": 19,
   "metadata": {},
   "outputs": [
    {
     "name": "stdout",
     "output_type": "stream",
     "text": [
      "http://images1.cafef.vn/data/20200911/CafeF.Index.Upto11092020.zip\n"
     ]
    }
   ],
   "source": [
    "print('http://images1.cafef.vn/data/{}{}{}/CafeF.Index.Upto{}{}{}.zip'.format(year, month, day, day, month, year))"
   ]
  },
  {
   "cell_type": "code",
   "execution_count": 9,
   "metadata": {},
   "outputs": [
    {
     "data": {
      "text/plain": [
       "'./Cafef_data/CafeF.SolieuGD.Upto11092020 (1).zip'"
      ]
     },
     "execution_count": 9,
     "metadata": {},
     "output_type": "execute_result"
    }
   ],
   "source": [
    "file"
   ]
  },
  {
   "cell_type": "code",
   "execution_count": 28,
   "metadata": {},
   "outputs": [],
   "source": [
    "#unzip file, file_index\n",
    "\n",
    "file = zipfile.ZipFile(file)\n",
    "file.extractall('./Cafef_data')\n",
    "file.close()\n",
    "\n",
    "file_index = zipfile.ZipFile(file_index)\n",
    "file_index.extractall('./Cafef_data')\n",
    "file_index.close()"
   ]
  },
  {
   "cell_type": "code",
   "execution_count": 3,
   "metadata": {},
   "outputs": [
    {
     "data": {
      "text/html": [
       "<div>\n",
       "<style scoped>\n",
       "    .dataframe tbody tr th:only-of-type {\n",
       "        vertical-align: middle;\n",
       "    }\n",
       "\n",
       "    .dataframe tbody tr th {\n",
       "        vertical-align: top;\n",
       "    }\n",
       "\n",
       "    .dataframe thead th {\n",
       "        text-align: right;\n",
       "    }\n",
       "</style>\n",
       "<table border=\"1\" class=\"dataframe\">\n",
       "  <thead>\n",
       "    <tr style=\"text-align: right;\">\n",
       "      <th></th>\n",
       "      <th>&lt;Ticker&gt;</th>\n",
       "      <th>&lt;DTYYYYMMDD&gt;</th>\n",
       "      <th>&lt;Open&gt;</th>\n",
       "      <th>&lt;High&gt;</th>\n",
       "      <th>&lt;Low&gt;</th>\n",
       "      <th>&lt;Close&gt;</th>\n",
       "      <th>&lt;Volume&gt;</th>\n",
       "    </tr>\n",
       "  </thead>\n",
       "  <tbody>\n",
       "    <tr>\n",
       "      <td>0</td>\n",
       "      <td>FUCVREIT</td>\n",
       "      <td>20200910</td>\n",
       "      <td>5.81</td>\n",
       "      <td>5.81</td>\n",
       "      <td>5.81</td>\n",
       "      <td>5.81</td>\n",
       "      <td>10</td>\n",
       "    </tr>\n",
       "    <tr>\n",
       "      <td>1</td>\n",
       "      <td>VPD</td>\n",
       "      <td>20200910</td>\n",
       "      <td>15.00</td>\n",
       "      <td>15.20</td>\n",
       "      <td>15.00</td>\n",
       "      <td>15.15</td>\n",
       "      <td>26150</td>\n",
       "    </tr>\n",
       "    <tr>\n",
       "      <td>2</td>\n",
       "      <td>VPG</td>\n",
       "      <td>20200910</td>\n",
       "      <td>11.80</td>\n",
       "      <td>12.00</td>\n",
       "      <td>11.60</td>\n",
       "      <td>11.90</td>\n",
       "      <td>616780</td>\n",
       "    </tr>\n",
       "    <tr>\n",
       "      <td>3</td>\n",
       "      <td>VPH</td>\n",
       "      <td>20200910</td>\n",
       "      <td>4.42</td>\n",
       "      <td>4.55</td>\n",
       "      <td>4.42</td>\n",
       "      <td>4.52</td>\n",
       "      <td>263240</td>\n",
       "    </tr>\n",
       "    <tr>\n",
       "      <td>4</td>\n",
       "      <td>VPI</td>\n",
       "      <td>20200910</td>\n",
       "      <td>40.70</td>\n",
       "      <td>41.10</td>\n",
       "      <td>40.55</td>\n",
       "      <td>40.95</td>\n",
       "      <td>844300</td>\n",
       "    </tr>\n",
       "  </tbody>\n",
       "</table>\n",
       "</div>"
      ],
      "text/plain": [
       "   <Ticker>  <DTYYYYMMDD>  <Open>  <High>  <Low>  <Close>  <Volume>\n",
       "0  FUCVREIT      20200910    5.81    5.81   5.81     5.81        10\n",
       "1       VPD      20200910   15.00   15.20  15.00    15.15     26150\n",
       "2       VPG      20200910   11.80   12.00  11.60    11.90    616780\n",
       "3       VPH      20200910    4.42    4.55   4.42     4.52    263240\n",
       "4       VPI      20200910   40.70   41.10  40.55    40.95    844300"
      ]
     },
     "execution_count": 3,
     "metadata": {},
     "output_type": "execute_result"
    }
   ],
   "source": [
    "#load file to notebook\n",
    "df = pd.read_csv('./Cafef_data/CafeF.HSX.Upto{}.{}.{}.csv'.format(day,month,year))\n",
    "df_index = pd.read_csv('./Cafef_data/CafeF.INDEX.Upto{}.{}.{}.csv'.format(day, month, year))\n",
    "df = df.append(df_index)\n",
    "df.head()"
   ]
  },
  {
   "cell_type": "code",
   "execution_count": 5,
   "metadata": {},
   "outputs": [
    {
     "name": "stdout",
     "output_type": "stream",
     "text": [
      "<class 'pandas.core.frame.DataFrame'>\n",
      "Int64Index: 869555 entries, 0 to 8483\n",
      "Data columns (total 7 columns):\n",
      "<Ticker>        869555 non-null object\n",
      "<DTYYYYMMDD>    869555 non-null int64\n",
      "<Open>          869555 non-null float64\n",
      "<High>          869555 non-null float64\n",
      "<Low>           869555 non-null float64\n",
      "<Close>         869555 non-null float64\n",
      "<Volume>        869555 non-null int64\n",
      "dtypes: float64(4), int64(2), object(1)\n",
      "memory usage: 53.1+ MB\n"
     ]
    }
   ],
   "source": [
    "df.info()"
   ]
  },
  {
   "cell_type": "code",
   "execution_count": 4,
   "metadata": {},
   "outputs": [
    {
     "data": {
      "text/html": [
       "<div>\n",
       "<style scoped>\n",
       "    .dataframe tbody tr th:only-of-type {\n",
       "        vertical-align: middle;\n",
       "    }\n",
       "\n",
       "    .dataframe tbody tr th {\n",
       "        vertical-align: top;\n",
       "    }\n",
       "\n",
       "    .dataframe thead th {\n",
       "        text-align: right;\n",
       "    }\n",
       "</style>\n",
       "<table border=\"1\" class=\"dataframe\">\n",
       "  <thead>\n",
       "    <tr style=\"text-align: right;\">\n",
       "      <th></th>\n",
       "      <th>Code</th>\n",
       "      <th>Date</th>\n",
       "      <th>Open</th>\n",
       "      <th>High</th>\n",
       "      <th>Low</th>\n",
       "      <th>Close</th>\n",
       "      <th>Volume</th>\n",
       "    </tr>\n",
       "  </thead>\n",
       "  <tbody>\n",
       "    <tr>\n",
       "      <td>0</td>\n",
       "      <td>FUCVREIT</td>\n",
       "      <td>20200910</td>\n",
       "      <td>5.81</td>\n",
       "      <td>5.81</td>\n",
       "      <td>5.81</td>\n",
       "      <td>5.81</td>\n",
       "      <td>10</td>\n",
       "    </tr>\n",
       "    <tr>\n",
       "      <td>1</td>\n",
       "      <td>VPD</td>\n",
       "      <td>20200910</td>\n",
       "      <td>15.00</td>\n",
       "      <td>15.20</td>\n",
       "      <td>15.00</td>\n",
       "      <td>15.15</td>\n",
       "      <td>26150</td>\n",
       "    </tr>\n",
       "    <tr>\n",
       "      <td>2</td>\n",
       "      <td>VPG</td>\n",
       "      <td>20200910</td>\n",
       "      <td>11.80</td>\n",
       "      <td>12.00</td>\n",
       "      <td>11.60</td>\n",
       "      <td>11.90</td>\n",
       "      <td>616780</td>\n",
       "    </tr>\n",
       "    <tr>\n",
       "      <td>3</td>\n",
       "      <td>VPH</td>\n",
       "      <td>20200910</td>\n",
       "      <td>4.42</td>\n",
       "      <td>4.55</td>\n",
       "      <td>4.42</td>\n",
       "      <td>4.52</td>\n",
       "      <td>263240</td>\n",
       "    </tr>\n",
       "    <tr>\n",
       "      <td>4</td>\n",
       "      <td>VPI</td>\n",
       "      <td>20200910</td>\n",
       "      <td>40.70</td>\n",
       "      <td>41.10</td>\n",
       "      <td>40.55</td>\n",
       "      <td>40.95</td>\n",
       "      <td>844300</td>\n",
       "    </tr>\n",
       "  </tbody>\n",
       "</table>\n",
       "</div>"
      ],
      "text/plain": [
       "       Code      Date   Open   High    Low  Close  Volume\n",
       "0  FUCVREIT  20200910   5.81   5.81   5.81   5.81      10\n",
       "1       VPD  20200910  15.00  15.20  15.00  15.15   26150\n",
       "2       VPG  20200910  11.80  12.00  11.60  11.90  616780\n",
       "3       VPH  20200910   4.42   4.55   4.42   4.52  263240\n",
       "4       VPI  20200910  40.70  41.10  40.55  40.95  844300"
      ]
     },
     "execution_count": 4,
     "metadata": {},
     "output_type": "execute_result"
    }
   ],
   "source": [
    "# rename columns more readable\n",
    "df.columns = ['Code', 'Date', 'Open', 'High', 'Low', 'Close', 'Volume']\n",
    "df.head()"
   ]
  },
  {
   "cell_type": "code",
   "execution_count": 5,
   "metadata": {
    "scrolled": true
   },
   "outputs": [
    {
     "data": {
      "text/html": [
       "<div>\n",
       "<style scoped>\n",
       "    .dataframe tbody tr th:only-of-type {\n",
       "        vertical-align: middle;\n",
       "    }\n",
       "\n",
       "    .dataframe tbody tr th {\n",
       "        vertical-align: top;\n",
       "    }\n",
       "\n",
       "    .dataframe thead th {\n",
       "        text-align: right;\n",
       "    }\n",
       "</style>\n",
       "<table border=\"1\" class=\"dataframe\">\n",
       "  <thead>\n",
       "    <tr style=\"text-align: right;\">\n",
       "      <th></th>\n",
       "      <th>Code</th>\n",
       "      <th>Date</th>\n",
       "      <th>Open</th>\n",
       "      <th>High</th>\n",
       "      <th>Low</th>\n",
       "      <th>Close</th>\n",
       "      <th>Volume</th>\n",
       "    </tr>\n",
       "  </thead>\n",
       "  <tbody>\n",
       "    <tr>\n",
       "      <td>0</td>\n",
       "      <td>FUCVREIT</td>\n",
       "      <td>2020-09-10</td>\n",
       "      <td>5.81</td>\n",
       "      <td>5.81</td>\n",
       "      <td>5.81</td>\n",
       "      <td>5.81</td>\n",
       "      <td>10</td>\n",
       "    </tr>\n",
       "    <tr>\n",
       "      <td>1</td>\n",
       "      <td>VPD</td>\n",
       "      <td>2020-09-10</td>\n",
       "      <td>15.00</td>\n",
       "      <td>15.20</td>\n",
       "      <td>15.00</td>\n",
       "      <td>15.15</td>\n",
       "      <td>26150</td>\n",
       "    </tr>\n",
       "    <tr>\n",
       "      <td>2</td>\n",
       "      <td>VPG</td>\n",
       "      <td>2020-09-10</td>\n",
       "      <td>11.80</td>\n",
       "      <td>12.00</td>\n",
       "      <td>11.60</td>\n",
       "      <td>11.90</td>\n",
       "      <td>616780</td>\n",
       "    </tr>\n",
       "    <tr>\n",
       "      <td>3</td>\n",
       "      <td>VPH</td>\n",
       "      <td>2020-09-10</td>\n",
       "      <td>4.42</td>\n",
       "      <td>4.55</td>\n",
       "      <td>4.42</td>\n",
       "      <td>4.52</td>\n",
       "      <td>263240</td>\n",
       "    </tr>\n",
       "    <tr>\n",
       "      <td>4</td>\n",
       "      <td>VPI</td>\n",
       "      <td>2020-09-10</td>\n",
       "      <td>40.70</td>\n",
       "      <td>41.10</td>\n",
       "      <td>40.55</td>\n",
       "      <td>40.95</td>\n",
       "      <td>844300</td>\n",
       "    </tr>\n",
       "  </tbody>\n",
       "</table>\n",
       "</div>"
      ],
      "text/plain": [
       "       Code       Date   Open   High    Low  Close  Volume\n",
       "0  FUCVREIT 2020-09-10   5.81   5.81   5.81   5.81      10\n",
       "1       VPD 2020-09-10  15.00  15.20  15.00  15.15   26150\n",
       "2       VPG 2020-09-10  11.80  12.00  11.60  11.90  616780\n",
       "3       VPH 2020-09-10   4.42   4.55   4.42   4.52  263240\n",
       "4       VPI 2020-09-10  40.70  41.10  40.55  40.95  844300"
      ]
     },
     "execution_count": 5,
     "metadata": {},
     "output_type": "execute_result"
    }
   ],
   "source": [
    "#change 'Date' to type datetime\n",
    "df['Date'] = pd.to_datetime(df['Date'], format='%Y%m%d', errors='ignore')\n",
    "#df.reset_index(inplace=True)\n",
    "df.head()"
   ]
  },
  {
   "cell_type": "code",
   "execution_count": 6,
   "metadata": {},
   "outputs": [
    {
     "name": "stdout",
     "output_type": "stream",
     "text": [
      "2020-09-10 2015-09-11\n"
     ]
    }
   ],
   "source": [
    "date = datetime(int(year), int(month), int(day)).date()\n",
    "#date\n",
    "first_date = date - timedelta(days=365*5+1)\n",
    "print(date, first_date)"
   ]
  },
  {
   "cell_type": "code",
   "execution_count": 7,
   "metadata": {},
   "outputs": [
    {
     "name": "stderr",
     "output_type": "stream",
     "text": [
      "C:\\Users\\vnris\\Anaconda3\\lib\\site-packages\\ipykernel_launcher.py:5: FutureWarning: Comparing Series of datetimes with 'datetime.date'.  Currently, the\n",
      "'datetime.date' is coerced to a datetime. In the future pandas will\n",
      "not coerce, and a TypeError will be raised. To retain the current\n",
      "behavior, convert the 'datetime.date' to a datetime with\n",
      "'pd.Timestamp'.\n",
      "  \"\"\"\n"
     ]
    },
    {
     "data": {
      "text/html": [
       "<div>\n",
       "<style scoped>\n",
       "    .dataframe tbody tr th:only-of-type {\n",
       "        vertical-align: middle;\n",
       "    }\n",
       "\n",
       "    .dataframe tbody tr th {\n",
       "        vertical-align: top;\n",
       "    }\n",
       "\n",
       "    .dataframe thead th {\n",
       "        text-align: right;\n",
       "    }\n",
       "</style>\n",
       "<table border=\"1\" class=\"dataframe\">\n",
       "  <thead>\n",
       "    <tr style=\"text-align: right;\">\n",
       "      <th></th>\n",
       "      <th>Date</th>\n",
       "      <th>Code</th>\n",
       "      <th>Close</th>\n",
       "    </tr>\n",
       "  </thead>\n",
       "  <tbody>\n",
       "    <tr>\n",
       "      <td>2479</td>\n",
       "      <td>2015-09-25</td>\n",
       "      <td>VNINDEX</td>\n",
       "      <td>570.3800</td>\n",
       "    </tr>\n",
       "    <tr>\n",
       "      <td>2480</td>\n",
       "      <td>2015-09-25</td>\n",
       "      <td>HNX-INDEX</td>\n",
       "      <td>78.6734</td>\n",
       "    </tr>\n",
       "    <tr>\n",
       "      <td>2481</td>\n",
       "      <td>2015-09-24</td>\n",
       "      <td>VNINDEX</td>\n",
       "      <td>570.2500</td>\n",
       "    </tr>\n",
       "    <tr>\n",
       "      <td>2482</td>\n",
       "      <td>2015-09-24</td>\n",
       "      <td>HNX-INDEX</td>\n",
       "      <td>78.6067</td>\n",
       "    </tr>\n",
       "    <tr>\n",
       "      <td>2483</td>\n",
       "      <td>2015-09-23</td>\n",
       "      <td>VNINDEX</td>\n",
       "      <td>572.7200</td>\n",
       "    </tr>\n",
       "    <tr>\n",
       "      <td>2484</td>\n",
       "      <td>2015-09-23</td>\n",
       "      <td>HNX-INDEX</td>\n",
       "      <td>78.4733</td>\n",
       "    </tr>\n",
       "    <tr>\n",
       "      <td>2485</td>\n",
       "      <td>2015-09-22</td>\n",
       "      <td>VNINDEX</td>\n",
       "      <td>573.2000</td>\n",
       "    </tr>\n",
       "    <tr>\n",
       "      <td>2486</td>\n",
       "      <td>2015-09-22</td>\n",
       "      <td>HNX-INDEX</td>\n",
       "      <td>78.3537</td>\n",
       "    </tr>\n",
       "    <tr>\n",
       "      <td>2487</td>\n",
       "      <td>2015-09-21</td>\n",
       "      <td>VNINDEX</td>\n",
       "      <td>572.1200</td>\n",
       "    </tr>\n",
       "    <tr>\n",
       "      <td>2488</td>\n",
       "      <td>2015-09-21</td>\n",
       "      <td>HNX-INDEX</td>\n",
       "      <td>78.0713</td>\n",
       "    </tr>\n",
       "    <tr>\n",
       "      <td>2489</td>\n",
       "      <td>2015-09-18</td>\n",
       "      <td>VNINDEX</td>\n",
       "      <td>566.2500</td>\n",
       "    </tr>\n",
       "    <tr>\n",
       "      <td>2490</td>\n",
       "      <td>2015-09-18</td>\n",
       "      <td>HNX-INDEX</td>\n",
       "      <td>77.7548</td>\n",
       "    </tr>\n",
       "    <tr>\n",
       "      <td>2491</td>\n",
       "      <td>2015-09-17</td>\n",
       "      <td>VNINDEX</td>\n",
       "      <td>562.4800</td>\n",
       "    </tr>\n",
       "    <tr>\n",
       "      <td>2492</td>\n",
       "      <td>2015-09-17</td>\n",
       "      <td>HNX-INDEX</td>\n",
       "      <td>77.2185</td>\n",
       "    </tr>\n",
       "    <tr>\n",
       "      <td>2493</td>\n",
       "      <td>2015-09-16</td>\n",
       "      <td>VNINDEX</td>\n",
       "      <td>564.1300</td>\n",
       "    </tr>\n",
       "    <tr>\n",
       "      <td>2494</td>\n",
       "      <td>2015-09-16</td>\n",
       "      <td>HNX-INDEX</td>\n",
       "      <td>76.6942</td>\n",
       "    </tr>\n",
       "    <tr>\n",
       "      <td>2495</td>\n",
       "      <td>2015-09-15</td>\n",
       "      <td>VNINDEX</td>\n",
       "      <td>563.2700</td>\n",
       "    </tr>\n",
       "    <tr>\n",
       "      <td>2496</td>\n",
       "      <td>2015-09-15</td>\n",
       "      <td>HNX-INDEX</td>\n",
       "      <td>76.6357</td>\n",
       "    </tr>\n",
       "    <tr>\n",
       "      <td>2497</td>\n",
       "      <td>2015-09-14</td>\n",
       "      <td>VNINDEX</td>\n",
       "      <td>562.1700</td>\n",
       "    </tr>\n",
       "    <tr>\n",
       "      <td>2498</td>\n",
       "      <td>2015-09-14</td>\n",
       "      <td>HNX-INDEX</td>\n",
       "      <td>76.7953</td>\n",
       "    </tr>\n",
       "  </tbody>\n",
       "</table>\n",
       "</div>"
      ],
      "text/plain": [
       "           Date       Code     Close\n",
       "2479 2015-09-25    VNINDEX  570.3800\n",
       "2480 2015-09-25  HNX-INDEX   78.6734\n",
       "2481 2015-09-24    VNINDEX  570.2500\n",
       "2482 2015-09-24  HNX-INDEX   78.6067\n",
       "2483 2015-09-23    VNINDEX  572.7200\n",
       "2484 2015-09-23  HNX-INDEX   78.4733\n",
       "2485 2015-09-22    VNINDEX  573.2000\n",
       "2486 2015-09-22  HNX-INDEX   78.3537\n",
       "2487 2015-09-21    VNINDEX  572.1200\n",
       "2488 2015-09-21  HNX-INDEX   78.0713\n",
       "2489 2015-09-18    VNINDEX  566.2500\n",
       "2490 2015-09-18  HNX-INDEX   77.7548\n",
       "2491 2015-09-17    VNINDEX  562.4800\n",
       "2492 2015-09-17  HNX-INDEX   77.2185\n",
       "2493 2015-09-16    VNINDEX  564.1300\n",
       "2494 2015-09-16  HNX-INDEX   76.6942\n",
       "2495 2015-09-15    VNINDEX  563.2700\n",
       "2496 2015-09-15  HNX-INDEX   76.6357\n",
       "2497 2015-09-14    VNINDEX  562.1700\n",
       "2498 2015-09-14  HNX-INDEX   76.7953"
      ]
     },
     "execution_count": 7,
     "metadata": {},
     "output_type": "execute_result"
    }
   ],
   "source": [
    "#slice 5 yrs of data\n",
    "date = datetime(int(year), int(month), int(day)).date()\n",
    "first_date = date - timedelta(days=365*5+1)\n",
    "\n",
    "df_recent_5yr = df[df['Date']>first_date][['Date', 'Code', 'Close']]\n",
    "df_recent_5yr.tail(20)"
   ]
  },
  {
   "cell_type": "code",
   "execution_count": 8,
   "metadata": {},
   "outputs": [],
   "source": [
    "Code_list = list(df['Code'].unique())"
   ]
  },
  {
   "cell_type": "code",
   "execution_count": 9,
   "metadata": {
    "scrolled": true
   },
   "outputs": [
    {
     "name": "stderr",
     "output_type": "stream",
     "text": [
      "C:\\Users\\vnris\\Anaconda3\\lib\\site-packages\\pandas\\core\\nanops.py:1287: RuntimeWarning: Degrees of freedom <= 0 for slice\n",
      "  return np.cov(a, b)[0, 1]\n",
      "C:\\Users\\vnris\\Anaconda3\\lib\\site-packages\\numpy\\lib\\function_base.py:2455: RuntimeWarning: divide by zero encountered in true_divide\n",
      "  c *= np.true_divide(1, fact)\n"
     ]
    }
   ],
   "source": [
    "# create dict to store beta \n",
    "\n",
    "df_idx = df_recent_5yr.loc[df_recent_5yr['Code']=='VNINDEX']\n",
    "df_idx.set_index('Date', inplace = True)\n",
    "df_idx = df_idx.sort_index()\n",
    "df_idx['Return'] = df_idx['Close'].pct_change()\n",
    "#df_idx['log_return'] = np.log(df_idx['Close']/df_idx['Close'].shift(1))\n",
    "idx_rtn_var = df_idx['Return'].var()\n",
    "#idx_rtn_var = df_idx['log_return'].var()\n",
    "\n",
    "beta_dict = {}\n",
    "for code in Code_list:\n",
    "    df_each = df_recent_5yr.loc[df_recent_5yr['Code']==code]\n",
    "    df_each.set_index('Date', inplace = True)\n",
    "    df_each = df_each.sort_index()\n",
    "    df_each['Return'] = df_each['Close'].pct_change()\n",
    "    #df_each['log_return'] = np.log(df_each['Close']/df_each['Close'].shift(1))\n",
    "    \n",
    "    try:\n",
    "        cum_rtn = df_each['Close'].iloc[-1]/df_each['Close'].iloc[0] - 1\n",
    "    except:\n",
    "        cum_rtn = None\n",
    "        \n",
    "    each_rtn_mean = df_each['Return'].mean()\n",
    "    each_rtn_cov = df_each['Return'].cov(df_idx['Return'])\n",
    "    each_rtn_std = df_each['Return'].std()\n",
    "    \n",
    "#     each_rtn_mean = df_each['log_return'].mean()\n",
    "#     each_rtn_cov = df_each['log_return'].cov(df_idx['log_return'])\n",
    "#     each_rtn_std = df_each['log_return'].std()\n",
    "    \n",
    "    each_beta = each_rtn_cov/idx_rtn_var\n",
    "    \n",
    "    beta_dict.update({code: {'beta': each_beta, 'cum return': cum_rtn,'rtn mean': each_rtn_mean,'rtn std':each_rtn_std}})\n",
    "    \n",
    "#beta_dict"
   ]
  },
  {
   "cell_type": "code",
   "execution_count": 10,
   "metadata": {},
   "outputs": [
    {
     "data": {
      "text/html": [
       "<div>\n",
       "<style scoped>\n",
       "    .dataframe tbody tr th:only-of-type {\n",
       "        vertical-align: middle;\n",
       "    }\n",
       "\n",
       "    .dataframe tbody tr th {\n",
       "        vertical-align: top;\n",
       "    }\n",
       "\n",
       "    .dataframe thead th {\n",
       "        text-align: right;\n",
       "    }\n",
       "</style>\n",
       "<table border=\"1\" class=\"dataframe\">\n",
       "  <thead>\n",
       "    <tr style=\"text-align: right;\">\n",
       "      <th></th>\n",
       "      <th>beta</th>\n",
       "      <th>cum return</th>\n",
       "      <th>rtn mean</th>\n",
       "      <th>rtn std</th>\n",
       "    </tr>\n",
       "  </thead>\n",
       "  <tbody>\n",
       "    <tr>\n",
       "      <td>FUCVREIT</td>\n",
       "      <td>-0.152594</td>\n",
       "      <td>-0.425321</td>\n",
       "      <td>0.000220</td>\n",
       "      <td>0.045637</td>\n",
       "    </tr>\n",
       "    <tr>\n",
       "      <td>VPD</td>\n",
       "      <td>0.440337</td>\n",
       "      <td>0.037792</td>\n",
       "      <td>0.000240</td>\n",
       "      <td>0.019112</td>\n",
       "    </tr>\n",
       "    <tr>\n",
       "      <td>VPG</td>\n",
       "      <td>0.401708</td>\n",
       "      <td>0.800766</td>\n",
       "      <td>0.001181</td>\n",
       "      <td>0.023927</td>\n",
       "    </tr>\n",
       "    <tr>\n",
       "      <td>VPH</td>\n",
       "      <td>0.485845</td>\n",
       "      <td>0.089025</td>\n",
       "      <td>0.000350</td>\n",
       "      <td>0.023820</td>\n",
       "    </tr>\n",
       "    <tr>\n",
       "      <td>VPI</td>\n",
       "      <td>0.184233</td>\n",
       "      <td>-0.024187</td>\n",
       "      <td>-0.000017</td>\n",
       "      <td>0.007464</td>\n",
       "    </tr>\n",
       "  </tbody>\n",
       "</table>\n",
       "</div>"
      ],
      "text/plain": [
       "              beta  cum return  rtn mean   rtn std\n",
       "FUCVREIT -0.152594   -0.425321  0.000220  0.045637\n",
       "VPD       0.440337    0.037792  0.000240  0.019112\n",
       "VPG       0.401708    0.800766  0.001181  0.023927\n",
       "VPH       0.485845    0.089025  0.000350  0.023820\n",
       "VPI       0.184233   -0.024187 -0.000017  0.007464"
      ]
     },
     "execution_count": 10,
     "metadata": {},
     "output_type": "execute_result"
    }
   ],
   "source": [
    "beta_df = pd.DataFrame(beta_dict).transpose()\n",
    "beta_df.head()\n",
    "#beta_df.to_csv('HOSE_beta.csv')"
   ]
  },
  {
   "cell_type": "code",
   "execution_count": 11,
   "metadata": {},
   "outputs": [
    {
     "data": {
      "text/html": [
       "<div>\n",
       "<style scoped>\n",
       "    .dataframe tbody tr th:only-of-type {\n",
       "        vertical-align: middle;\n",
       "    }\n",
       "\n",
       "    .dataframe tbody tr th {\n",
       "        vertical-align: top;\n",
       "    }\n",
       "\n",
       "    .dataframe thead th {\n",
       "        text-align: right;\n",
       "    }\n",
       "</style>\n",
       "<table border=\"1\" class=\"dataframe\">\n",
       "  <thead>\n",
       "    <tr style=\"text-align: right;\">\n",
       "      <th></th>\n",
       "      <th>beta</th>\n",
       "      <th>cum return</th>\n",
       "      <th>rtn mean</th>\n",
       "      <th>rtn std</th>\n",
       "    </tr>\n",
       "  </thead>\n",
       "  <tbody>\n",
       "    <tr>\n",
       "      <td>count</td>\n",
       "      <td>628.000000</td>\n",
       "      <td>639.000000</td>\n",
       "      <td>634.000000</td>\n",
       "      <td>631.000000</td>\n",
       "    </tr>\n",
       "    <tr>\n",
       "      <td>mean</td>\n",
       "      <td>3.250983</td>\n",
       "      <td>0.180843</td>\n",
       "      <td>-0.002202</td>\n",
       "      <td>0.083110</td>\n",
       "    </tr>\n",
       "    <tr>\n",
       "      <td>std</td>\n",
       "      <td>7.772427</td>\n",
       "      <td>1.064474</td>\n",
       "      <td>0.028972</td>\n",
       "      <td>0.205364</td>\n",
       "    </tr>\n",
       "    <tr>\n",
       "      <td>min</td>\n",
       "      <td>-78.793645</td>\n",
       "      <td>-0.999306</td>\n",
       "      <td>-0.200000</td>\n",
       "      <td>0.007464</td>\n",
       "    </tr>\n",
       "    <tr>\n",
       "      <td>25%</td>\n",
       "      <td>0.376446</td>\n",
       "      <td>-0.513274</td>\n",
       "      <td>-0.000830</td>\n",
       "      <td>0.022832</td>\n",
       "    </tr>\n",
       "    <tr>\n",
       "      <td>50%</td>\n",
       "      <td>0.781813</td>\n",
       "      <td>0.000000</td>\n",
       "      <td>0.000461</td>\n",
       "      <td>0.032342</td>\n",
       "    </tr>\n",
       "    <tr>\n",
       "      <td>75%</td>\n",
       "      <td>2.308965</td>\n",
       "      <td>0.557623</td>\n",
       "      <td>0.001171</td>\n",
       "      <td>0.074922</td>\n",
       "    </tr>\n",
       "    <tr>\n",
       "      <td>max</td>\n",
       "      <td>78.537472</td>\n",
       "      <td>9.583333</td>\n",
       "      <td>0.453375</td>\n",
       "      <td>3.609351</td>\n",
       "    </tr>\n",
       "  </tbody>\n",
       "</table>\n",
       "</div>"
      ],
      "text/plain": [
       "             beta  cum return    rtn mean     rtn std\n",
       "count  628.000000  639.000000  634.000000  631.000000\n",
       "mean     3.250983    0.180843   -0.002202    0.083110\n",
       "std      7.772427    1.064474    0.028972    0.205364\n",
       "min    -78.793645   -0.999306   -0.200000    0.007464\n",
       "25%      0.376446   -0.513274   -0.000830    0.022832\n",
       "50%      0.781813    0.000000    0.000461    0.032342\n",
       "75%      2.308965    0.557623    0.001171    0.074922\n",
       "max     78.537472    9.583333    0.453375    3.609351"
      ]
     },
     "execution_count": 11,
     "metadata": {},
     "output_type": "execute_result"
    }
   ],
   "source": [
    "beta_df.describe()"
   ]
  },
  {
   "cell_type": "code",
   "execution_count": 12,
   "metadata": {},
   "outputs": [
    {
     "name": "stderr",
     "output_type": "stream",
     "text": [
      "C:\\Users\\vnris\\Anaconda3\\lib\\site-packages\\pandas\\plotting\\_matplotlib\\tools.py:307: MatplotlibDeprecationWarning: \n",
      "The rowNum attribute was deprecated in Matplotlib 3.2 and will be removed two minor releases later. Use ax.get_subplotspec().rowspan.start instead.\n",
      "  layout[ax.rowNum, ax.colNum] = ax.get_visible()\n",
      "C:\\Users\\vnris\\Anaconda3\\lib\\site-packages\\pandas\\plotting\\_matplotlib\\tools.py:307: MatplotlibDeprecationWarning: \n",
      "The colNum attribute was deprecated in Matplotlib 3.2 and will be removed two minor releases later. Use ax.get_subplotspec().colspan.start instead.\n",
      "  layout[ax.rowNum, ax.colNum] = ax.get_visible()\n",
      "C:\\Users\\vnris\\Anaconda3\\lib\\site-packages\\pandas\\plotting\\_matplotlib\\tools.py:313: MatplotlibDeprecationWarning: \n",
      "The rowNum attribute was deprecated in Matplotlib 3.2 and will be removed two minor releases later. Use ax.get_subplotspec().rowspan.start instead.\n",
      "  if not layout[ax.rowNum + 1, ax.colNum]:\n",
      "C:\\Users\\vnris\\Anaconda3\\lib\\site-packages\\pandas\\plotting\\_matplotlib\\tools.py:313: MatplotlibDeprecationWarning: \n",
      "The colNum attribute was deprecated in Matplotlib 3.2 and will be removed two minor releases later. Use ax.get_subplotspec().colspan.start instead.\n",
      "  if not layout[ax.rowNum + 1, ax.colNum]:\n"
     ]
    },
    {
     "data": {
      "text/plain": [
       "array([[<matplotlib.axes._subplots.AxesSubplot object at 0x000001D3DB4C60C8>,\n",
       "        <matplotlib.axes._subplots.AxesSubplot object at 0x000001D3DD164788>],\n",
       "       [<matplotlib.axes._subplots.AxesSubplot object at 0x000001D3DD5F8FC8>,\n",
       "        <matplotlib.axes._subplots.AxesSubplot object at 0x000001D3DD631F88>]],\n",
       "      dtype=object)"
      ]
     },
     "execution_count": 12,
     "metadata": {},
     "output_type": "execute_result"
    },
    {
     "data": {
      "image/png": "[encoded data removed]",
      "text/plain": [
       "<Figure size 1080x576 with 4 Axes>"
      ]
     },
     "metadata": {
      "needs_background": "light"
     },
     "output_type": "display_data"
    }
   ],
   "source": [
    "%matplotlib inline\n",
    "import matplotlib.pyplot as plt\n",
    "beta_df.hist(bins=100, figsize = (15,8))"
   ]
  },
  {
   "cell_type": "code",
   "execution_count": 50,
   "metadata": {},
   "outputs": [
    {
     "data": {
      "text/html": [
       "<div>\n",
       "<style scoped>\n",
       "    .dataframe tbody tr th:only-of-type {\n",
       "        vertical-align: middle;\n",
       "    }\n",
       "\n",
       "    .dataframe tbody tr th {\n",
       "        vertical-align: top;\n",
       "    }\n",
       "\n",
       "    .dataframe thead th {\n",
       "        text-align: right;\n",
       "    }\n",
       "</style>\n",
       "<table border=\"1\" class=\"dataframe\">\n",
       "  <thead>\n",
       "    <tr style=\"text-align: right;\">\n",
       "      <th></th>\n",
       "      <th>beta</th>\n",
       "      <th>cum return</th>\n",
       "      <th>rtn mean</th>\n",
       "      <th>rtn std</th>\n",
       "    </tr>\n",
       "  </thead>\n",
       "  <tbody>\n",
       "    <tr>\n",
       "      <td>CVPB2004</td>\n",
       "      <td>78.537472</td>\n",
       "      <td>-0.92268</td>\n",
       "      <td>0.208992</td>\n",
       "      <td>1.274411</td>\n",
       "    </tr>\n",
       "  </tbody>\n",
       "</table>\n",
       "</div>"
      ],
      "text/plain": [
       "               beta  cum return  rtn mean   rtn std\n",
       "CVPB2004  78.537472    -0.92268  0.208992  1.274411"
      ]
     },
     "execution_count": 50,
     "metadata": {},
     "output_type": "execute_result"
    }
   ],
   "source": [
    "beta_df.loc[beta_df['beta']==beta_df['beta'].max()]"
   ]
  },
  {
   "cell_type": "code",
   "execution_count": 61,
   "metadata": {},
   "outputs": [
    {
     "data": {
      "text/html": [
       "<div>\n",
       "<style scoped>\n",
       "    .dataframe tbody tr th:only-of-type {\n",
       "        vertical-align: middle;\n",
       "    }\n",
       "\n",
       "    .dataframe tbody tr th {\n",
       "        vertical-align: top;\n",
       "    }\n",
       "\n",
       "    .dataframe thead th {\n",
       "        text-align: right;\n",
       "    }\n",
       "</style>\n",
       "<table border=\"1\" class=\"dataframe\">\n",
       "  <thead>\n",
       "    <tr style=\"text-align: right;\">\n",
       "      <th></th>\n",
       "      <th>beta</th>\n",
       "      <th>cum return</th>\n",
       "      <th>rtn mean</th>\n",
       "      <th>rtn std</th>\n",
       "    </tr>\n",
       "  </thead>\n",
       "  <tbody>\n",
       "    <tr>\n",
       "      <td>GAB</td>\n",
       "      <td>0.398581</td>\n",
       "      <td>9.583333</td>\n",
       "      <td>0.008708</td>\n",
       "      <td>0.036305</td>\n",
       "    </tr>\n",
       "  </tbody>\n",
       "</table>\n",
       "</div>"
      ],
      "text/plain": [
       "         beta  cum return  rtn mean   rtn std\n",
       "GAB  0.398581    9.583333  0.008708  0.036305"
      ]
     },
     "execution_count": 61,
     "metadata": {},
     "output_type": "execute_result"
    }
   ],
   "source": [
    "beta_df.loc[beta_df['cum return']==beta_df['cum return'].max()]"
   ]
  },
  {
   "cell_type": "code",
   "execution_count": 52,
   "metadata": {},
   "outputs": [
    {
     "data": {
      "text/html": [
       "<div>\n",
       "<style scoped>\n",
       "    .dataframe tbody tr th:only-of-type {\n",
       "        vertical-align: middle;\n",
       "    }\n",
       "\n",
       "    .dataframe tbody tr th {\n",
       "        vertical-align: top;\n",
       "    }\n",
       "\n",
       "    .dataframe thead th {\n",
       "        text-align: right;\n",
       "    }\n",
       "</style>\n",
       "<table border=\"1\" class=\"dataframe\">\n",
       "  <thead>\n",
       "    <tr style=\"text-align: right;\">\n",
       "      <th></th>\n",
       "      <th>beta</th>\n",
       "      <th>cum return</th>\n",
       "      <th>rtn mean</th>\n",
       "      <th>rtn std</th>\n",
       "    </tr>\n",
       "  </thead>\n",
       "  <tbody>\n",
       "    <tr>\n",
       "      <td>CMSN1901</td>\n",
       "      <td>5.372771</td>\n",
       "      <td>-0.537572</td>\n",
       "      <td>0.453375</td>\n",
       "      <td>3.609351</td>\n",
       "    </tr>\n",
       "  </tbody>\n",
       "</table>\n",
       "</div>"
      ],
      "text/plain": [
       "              beta  cum return  rtn mean   rtn std\n",
       "CMSN1901  5.372771   -0.537572  0.453375  3.609351"
      ]
     },
     "execution_count": 52,
     "metadata": {},
     "output_type": "execute_result"
    }
   ],
   "source": [
    "beta_df.loc[beta_df['rtn mean']==beta_df['rtn mean'].max()]"
   ]
  },
  {
   "cell_type": "code",
   "execution_count": 53,
   "metadata": {},
   "outputs": [
    {
     "data": {
      "text/html": [
       "<div>\n",
       "<style scoped>\n",
       "    .dataframe tbody tr th:only-of-type {\n",
       "        vertical-align: middle;\n",
       "    }\n",
       "\n",
       "    .dataframe tbody tr th {\n",
       "        vertical-align: top;\n",
       "    }\n",
       "\n",
       "    .dataframe thead th {\n",
       "        text-align: right;\n",
       "    }\n",
       "</style>\n",
       "<table border=\"1\" class=\"dataframe\">\n",
       "  <thead>\n",
       "    <tr style=\"text-align: right;\">\n",
       "      <th></th>\n",
       "      <th>beta</th>\n",
       "      <th>cum return</th>\n",
       "      <th>rtn mean</th>\n",
       "      <th>rtn std</th>\n",
       "    </tr>\n",
       "  </thead>\n",
       "  <tbody>\n",
       "    <tr>\n",
       "      <td>CMSN1901</td>\n",
       "      <td>5.372771</td>\n",
       "      <td>-0.537572</td>\n",
       "      <td>0.453375</td>\n",
       "      <td>3.609351</td>\n",
       "    </tr>\n",
       "  </tbody>\n",
       "</table>\n",
       "</div>"
      ],
      "text/plain": [
       "              beta  cum return  rtn mean   rtn std\n",
       "CMSN1901  5.372771   -0.537572  0.453375  3.609351"
      ]
     },
     "execution_count": 53,
     "metadata": {},
     "output_type": "execute_result"
    }
   ],
   "source": [
    "beta_df.loc[beta_df['rtn std']==beta_df['rtn std'].max()]"
   ]
  },
  {
   "cell_type": "code",
   "execution_count": 60,
   "metadata": {},
   "outputs": [
    {
     "data": {
      "text/plain": [
       "{'beta': 0.9167286244874163,\n",
       " 'cum return': 2.562501230145452,\n",
       " 'rtn mean': 0.0011731140091014915,\n",
       " 'rtn std': 0.017661031090929435}"
      ]
     },
     "execution_count": 60,
     "metadata": {},
     "output_type": "execute_result"
    }
   ],
   "source": [
    "beta_dict['VIC']"
   ]
  },
  {
   "cell_type": "code",
   "execution_count": null,
   "metadata": {},
   "outputs": [],
   "source": []
  }
 ],
 "metadata": {
  "kernelspec": {
   "display_name": "Python 3",
   "language": "python",
   "name": "python3"
  },
  "language_info": {
   "codemirror_mode": {
    "name": "ipython",
    "version": 3
   },
   "file_extension": ".py",
   "mimetype": "text/x-python",
   "name": "python",
   "nbconvert_exporter": "python",
   "pygments_lexer": "ipython3",
   "version": "3.7.4"
  }
 },
 "nbformat": 4,
 "nbformat_minor": 2
}
